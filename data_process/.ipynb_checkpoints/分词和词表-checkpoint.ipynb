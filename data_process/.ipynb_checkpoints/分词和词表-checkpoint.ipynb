{
 "cells": [
  {
   "cell_type": "code",
   "execution_count": 3,
   "metadata": {},
   "outputs": [],
   "source": [
    "import jieba\n",
    "import collections\n",
    "from operator import itemgetter"
   ]
  },
  {
   "cell_type": "code",
   "execution_count": 22,
   "metadata": {},
   "outputs": [],
   "source": [
    "# 分词形成词表\n",
    "def seg_words(doc, stop_words=[]):\n",
    "    counter = collections.Counter()\n",
    "    inverted = {}\n",
    "    for d in doc:\n",
    "        cut = [i for i in jieba.cut_for_search(doc[d]) if i not in stop_words]\n",
    "        for i in cut:\n",
    "            counter[i] += 1\n",
    "        for i in set(cut):\n",
    "            if i in inverted:\n",
    "                inverted[i].append(d)\n",
    "            else:\n",
    "                inverted[i] = [d]\n",
    "    sorted_word_to_doc = sorted(counter.items(), key=itemgetter(1), reverse=True)\n",
    "    sorted_words = [x[0] for x in sorted_word_to_doc]\n",
    "    return sorted_words, sorted_word_to_doc, inverted\n",
    "        "
   ]
  },
  {
   "cell_type": "code",
   "execution_count": 23,
   "metadata": {},
   "outputs": [
    {
     "data": {
      "text/plain": [
       "['a', ' ', ' ', ' ', 'b', ' ', 'c']"
      ]
     },
     "execution_count": 23,
     "metadata": {},
     "output_type": "execute_result"
    }
   ],
   "source": [
    "a = 'a   b c'\n",
    "list(jieba.cut_for_search(a))"
   ]
  },
  {
   "cell_type": "code",
   "execution_count": null,
   "metadata": {},
   "outputs": [],
   "source": []
  },
  {
   "cell_type": "code",
   "execution_count": null,
   "metadata": {},
   "outputs": [],
   "source": []
  },
  {
   "cell_type": "code",
   "execution_count": null,
   "metadata": {},
   "outputs": [],
   "source": []
  },
  {
   "cell_type": "code",
   "execution_count": null,
   "metadata": {},
   "outputs": [],
   "source": []
  },
  {
   "cell_type": "markdown",
   "metadata": {},
   "source": [
    "## 原始文档\n",
    "如下，一个数据表docu_set中有三篇文章的,d1,d2,d3,如下"
   ]
  },
  {
   "cell_type": "code",
   "execution_count": 24,
   "metadata": {},
   "outputs": [],
   "source": [
    "docu_set={'d1':'i love shanghai',\n",
    "          'd2':'i am from shanghai now i study in tongji university',\n",
    "          'd3':'i am from lanzhou now i study in lanzhou university of science  and  technolgy',}"
   ]
  },
  {
   "cell_type": "code",
   "execution_count": 25,
   "metadata": {},
   "outputs": [],
   "source": [
    "# 分词及词频\n",
    "stop_words = [' '] # 停用词表\n",
    "sorted_words, sorted_word_to_doc, inverted = seg_words(docu_set, stop_words=stop_words)"
   ]
  },
  {
   "cell_type": "code",
   "execution_count": 26,
   "metadata": {
    "scrolled": true
   },
   "outputs": [
    {
     "name": "stdout",
     "output_type": "stream",
     "text": [
      "sorted words:\n",
      "['i', 'shanghai', 'am', 'from', 'now', 'study', 'in', 'university', 'lanzhou', 'love', 'tongji', 'of', 'science', 'and', 'technolgy']\n",
      "====================\n",
      "sorted word to doc:\n",
      "[('i', 5), ('shanghai', 2), ('am', 2), ('from', 2), ('now', 2), ('study', 2), ('in', 2), ('university', 2), ('lanzhou', 2), ('love', 1), ('tongji', 1), ('of', 1), ('science', 1), ('and', 1), ('technolgy', 1)]\n",
      "====================\n",
      "inverted:\n",
      "{'love': ['d1'], 'shanghai': ['d1', 'd2'], 'i': ['d1', 'd2', 'd3'], 'study': ['d2', 'd3'], 'am': ['d2', 'd3'], 'in': ['d2', 'd3'], 'university': ['d2', 'd3'], 'from': ['d2', 'd3'], 'tongji': ['d2'], 'now': ['d2', 'd3'], 'and': ['d3'], 'of': ['d3'], 'science': ['d3'], 'technolgy': ['d3'], 'lanzhou': ['d3']}\n",
      "====================\n"
     ]
    }
   ],
   "source": [
    "print('sorted words:')\n",
    "print(sorted_words)\n",
    "print('='*20)\n",
    "print('sorted word to doc:')\n",
    "print(sorted_word_to_doc)\n",
    "print('='*20)\n",
    "print('inverted:')\n",
    "print(inverted)\n",
    "print('='*20)\n",
    "\n"
   ]
  },
  {
   "cell_type": "code",
   "execution_count": 29,
   "metadata": {},
   "outputs": [
    {
     "data": {
      "text/plain": [
       "set()"
      ]
     },
     "execution_count": 29,
     "metadata": {},
     "output_type": "execute_result"
    }
   ],
   "source": [
    "a = [1,2,3]\n",
    "b = [2,3,4]"
   ]
  }
 ],
 "metadata": {
  "kernelspec": {
   "display_name": "Python 3",
   "language": "python",
   "name": "python3"
  },
  "language_info": {
   "codemirror_mode": {
    "name": "ipython",
    "version": 3
   },
   "file_extension": ".py",
   "mimetype": "text/x-python",
   "name": "python",
   "nbconvert_exporter": "python",
   "pygments_lexer": "ipython3",
   "version": "3.7.1"
  }
 },
 "nbformat": 4,
 "nbformat_minor": 2
}
